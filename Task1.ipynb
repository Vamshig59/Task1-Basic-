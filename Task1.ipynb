{
  "nbformat": 4,
  "nbformat_minor": 0,
  "metadata": {
    "colab": {
      "provenance": []
    },
    "kernelspec": {
      "name": "python3",
      "display_name": "Python 3"
    },
    "language_info": {
      "name": "python"
    }
  },
  "cells": [
    {
      "cell_type": "markdown",
      "source": [
        " # Q1) Hello world **prog** \n",
        "\n",
        " "
      ],
      "metadata": {
        "id": "nIIoJCaDL7fF"
      }
    },
    {
      "cell_type": "code",
      "execution_count": null,
      "metadata": {
        "id": "z_YtY7_FH_x2"
      },
      "outputs": [],
      "source": [
        "print(\"Hello, World!\")"
      ]
    },
    {
      "cell_type": "markdown",
      "source": [],
      "metadata": {
        "id": "HkDnqp39I02c"
      }
    },
    {
      "cell_type": "markdown",
      "source": [
        "# Q2) If else prog"
      ],
      "metadata": {
        "id": "_TH-6Z7zMixX"
      }
    },
    {
      "cell_type": "code",
      "source": [
        "import math\n",
        "import os\n",
        "import random\n",
        "import re\n",
        "import sys\n",
        "\n",
        "\n",
        "\n",
        "if __name__ == '__main__':\n",
        "    n = int(input().strip())\n",
        "    \n",
        "if (n%2!= 0) or (n>=6 and n<=20):\n",
        "    print(\"Weird\")\n",
        "else:\n",
        "    print(\"Not Weird\")    "
      ],
      "metadata": {
        "id": "SG8UeskrI5qa"
      },
      "execution_count": null,
      "outputs": []
    },
    {
      "cell_type": "markdown",
      "source": [
        "# Q3) Arithmetic operators \n"
      ],
      "metadata": {
        "id": "Nv5ww4HcMvDe"
      }
    },
    {
      "cell_type": "code",
      "source": [
        "if __name__ == '__main__':\n",
        "    a = int(input())\n",
        "    b = int(input())\n",
        "    print(a+b)\n",
        "    print(a-b)\n",
        "    print(a*b)"
      ],
      "metadata": {
        "id": "W-A6G1MVJNYP"
      },
      "execution_count": null,
      "outputs": []
    },
    {
      "cell_type": "markdown",
      "source": [
        "# Q4) Division"
      ],
      "metadata": {
        "id": "35TxSwX5M4sD"
      }
    },
    {
      "cell_type": "code",
      "source": [
        "if __name__ == '__main__':\n",
        "    a = int(input())\n",
        "    b = int(input())\n",
        "    print(a//b)\n",
        "    print(a/b)"
      ],
      "metadata": {
        "id": "HHJ6oY_HJwcF"
      },
      "execution_count": null,
      "outputs": []
    },
    {
      "cell_type": "markdown",
      "source": [
        "# Q4)Loops"
      ],
      "metadata": {
        "id": "-S-TNLTANC3Y"
      }
    },
    {
      "cell_type": "code",
      "source": [
        "if __name__ == '__main__':\n",
        "    n = int(input())\n",
        "    for i in range(0,n):\n",
        "      print(i*i)"
      ],
      "metadata": {
        "id": "QxZCTy5LJ6Y-"
      },
      "execution_count": null,
      "outputs": []
    },
    {
      "cell_type": "markdown",
      "source": [
        "# Q5) Write a function\n"
      ],
      "metadata": {
        "id": "ZWAVbkyWNK3x"
      }
    },
    {
      "cell_type": "code",
      "source": [
        "def is_leap(n):\n",
        "    \n",
        "    if n % 400 == 0:\n",
        "        return True\n",
        "    if n % 100 == 0:\n",
        "        return False\n",
        "    if n % 4 == 0:\n",
        "        return True\n",
        "    return False \n",
        "    \n",
        "\n",
        "year = int(input())"
      ],
      "metadata": {
        "id": "x2aNIXEDKHxR"
      },
      "execution_count": null,
      "outputs": []
    },
    {
      "cell_type": "markdown",
      "source": [
        "# Q6) Print function"
      ],
      "metadata": {
        "id": "HoZHPE00NSEo"
      }
    },
    {
      "cell_type": "code",
      "source": [
        "if __name__ == '__main__':\n",
        "    n = int(input())\n",
        "    for i in range(1,n+1):\n",
        "        print(i,end=\"\")\n"
      ],
      "metadata": {
        "id": "-d1G5ZOZKd0z"
      },
      "execution_count": null,
      "outputs": []
    },
    {
      "cell_type": "code",
      "source": [],
      "metadata": {
        "id": "cCxVqbbCKd6v"
      },
      "execution_count": null,
      "outputs": []
    },
    {
      "cell_type": "markdown",
      "source": [],
      "metadata": {
        "id": "HuGiIMG6Imui"
      }
    }
  ]
}